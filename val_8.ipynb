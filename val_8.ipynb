{
 "cells": [
  {
   "cell_type": "code",
   "execution_count": null,
   "metadata": {},
   "outputs": [],
   "source": [
    "import pandas as pd\n",
    "exp_df=pd.read_csv('ER_expense_5paisa.csv')\n",
    "exp_df.columns\n",
    "exp_df['DISTRIBUTED_AMT'] = exp_df['DISTRIBUTED_AMT'].fillna(0)\n",
    "table = pd.pivot_table(exp_df,index=['ACCOUNT_CODE_N','VENDOR_NAME','VENDOR_CODE'],values=['DISTRIBUTED_AMT'],aggfunc=sum)\n",
    "table.reset_index(inplace=True)\n",
    "table.shape\n",
    "sub_table=table.groupby('ACCOUNT_CODE_N')['DISTRIBUTED_AMT'].sum()\n",
    "sub_table=sub_table.to_frame()\n",
    "sub_table.reset_index(inplace=True)\n",
    "sub_table.rename(columns = {'DISTRIBUTED_AMT':'total'}, inplace = True)\n",
    "left_df=pd.merge(table,sub_table,on=\"ACCOUNT_CODE_N\",how=\"left\")\n",
    "def calculating_percentage(per):\n",
    "    DISTRIBUTED_AMT=per[0]\n",
    "    total_y=per[1]\n",
    "    return (DISTRIBUTED_AMT/total_y)*100\n",
    "\n",
    "    \n",
    "left_df['percentage']=left_df[['DISTRIBUTED_AMT','total']].apply(calculating_percentage,axis=1)\n",
    "def slab_20_30(slab):\n",
    "    percentage=slab\n",
    "    if (percentage>=20 and percentage<=30):\n",
    "        return percentage \n",
    "    else:\n",
    "        return \"none\"\n",
    "\n",
    "left_df['20-30']=left_df['percentage'].apply(slab_20_30)\n",
    "def slab_30_40(slab):\n",
    "    percentage=slab\n",
    "    if (percentage>30 and percentage<=40):\n",
    "        return percentage \n",
    "    else:\n",
    "        return \"none\"\n",
    "left_df['30-40']=left_df['percentage'].apply(slab_30_40)\n",
    "def slab_30_40(slab):\n",
    "    percentage=slab\n",
    "    if (percentage>30 and percentage<=40):\n",
    "        return percentage \n",
    "    else:\n",
    "        return \"none\"\n",
    "left_df['30-40']=left_df['percentage'].apply(slab_30_40)\n",
    "def slab_40_50(slab):\n",
    "    percentage=slab\n",
    "    if (percentage>40 and percentage<=50):\n",
    "        return percentage \n",
    "    else:\n",
    "        return \"none\"\n",
    "left_df['40-50']=left_df['percentage'].apply(slab_40_50)\n",
    "def slab_50_100(slab):\n",
    "    percentage=slab\n",
    "    if (percentage>50 and percentage<=200):\n",
    "        return percentage \n",
    "    else:\n",
    "        return \"none\"\n",
    "left_df['50+']=left_df['percentage'].apply(slab_50_100)\n",
    "left_df.to_csv(\"validation_8.results.csv\")"
   ]
  },
  {
   "cell_type": "code",
   "execution_count": null,
   "metadata": {},
   "outputs": [],
   "source": []
  }
 ],
 "metadata": {
  "kernelspec": {
   "display_name": "Python 3.10.7 64-bit",
   "language": "python",
   "name": "python3"
  },
  "language_info": {
   "codemirror_mode": {
    "name": "ipython",
    "version": 3
   },
   "file_extension": ".py",
   "mimetype": "text/x-python",
   "name": "python",
   "nbconvert_exporter": "python",
   "pygments_lexer": "ipython3",
   "version": "3.10.7"
  },
  "orig_nbformat": 4,
  "vscode": {
   "interpreter": {
    "hash": "afb734500600fd355917ca529030176ea0ca205570884b88f2f6f7d791fd3fbe"
   }
  }
 },
 "nbformat": 4,
 "nbformat_minor": 2
}
